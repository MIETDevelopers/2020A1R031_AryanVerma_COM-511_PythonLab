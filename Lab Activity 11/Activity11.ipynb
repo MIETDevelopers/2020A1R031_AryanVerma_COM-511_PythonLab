{
 "cells": [
  {
   "cell_type": "code",
   "execution_count": 1,
   "id": "e9c8a91b",
   "metadata": {},
   "outputs": [
    {
     "name": "stdout",
     "output_type": "stream",
     "text": [
      "This is an apple.\n",
      "Apple is good for health.\n",
      "An apple a day, keeps the doctor away.\n",
      "['a', 'an', 'apple', 'apple.', 'away.', 'day,', 'doctor', 'for', 'good', 'health.', 'is', 'keeps', 'the', 'this']\n"
     ]
    }
   ],
   "source": [
    "#Write a program that inputs a text file. The program should print all of the unique words in the file in alphabetical order\n",
    "#creating a text file - myfile\n",
    "f = open(\"myfile.txt\",\"w\")\n",
    "#writing into the file\n",
    "text = f.write(\"This is an apple.\\nApple is good for health.\\nAn apple a day, keeps the doctor away.\")\n",
    "#closing the file\n",
    "f.close()\n",
    "#opening the file in read mode\n",
    "f = open(\"myfile.txt\",\"r\")\n",
    "#reading the contents of file\n",
    "text = f.read()\n",
    "print(text)\n",
    "#converting all the text into lower case\n",
    "text = text.lower()\n",
    "#converting the string into list\n",
    "aplhabet = text.split()\n",
    "#removes all the punctuation\n",
    "alhabet = [alhabet.strip('.,!;()[]') for alhabet in aplhabet]\n",
    "#removes all the apostrophes and white spaces\n",
    "alhabet = [alhabet.replace(\"'s\", '') for alhabet in aplhabet]\n",
    "#creating an empty list\n",
    "l = []\n",
    "#iterating over the list\n",
    "for alhabet in alhabet:\n",
    "    #using if and membership operator to check the unique words\n",
    "    if alhabet not in l:\n",
    "        l.append(alhabet) #appending the list\n",
    "l.sort() #sorting the list\n",
    "print(l) #printing the list"
   ]
  },
  {
   "cell_type": "code",
   "execution_count": 2,
   "id": "4bf199df",
   "metadata": {},
   "outputs": [
    {
     "name": "stdout",
     "output_type": "stream",
     "text": [
      "Enter the text:This is Aryan\n",
      "Enter the text:I study in MIET\n",
      "Enter the text:My branch is CSE\n"
     ]
    }
   ],
   "source": [
    "# Create a text file “MyFile.txt” in python and ask the user to write separate 3 lines with three input statements from the user\n",
    "def program2():\n",
    "    f = open(\"MyFile.txt\",\"w\")\n",
    "    line1=input(\"Enter the text:\")\n",
    "    line2=input(\"Enter the text:\")\n",
    "    line3=input(\"Enter the text:\")\n",
    "    new_line=\"\\n\"\n",
    "    f.write(line1)\n",
    "    f.write(new_line)\n",
    "    f.write(line2)\n",
    "    f.write(new_line)\n",
    "    f.write(line3)\n",
    "    f.write(new_line)\n",
    "    f.close()\n",
    "program2()"
   ]
  },
  {
   "cell_type": "code",
   "execution_count": null,
   "id": "a3d7b4a3",
   "metadata": {},
   "outputs": [],
   "source": []
  }
 ],
 "metadata": {
  "kernelspec": {
   "display_name": "Python 3 (ipykernel)",
   "language": "python",
   "name": "python3"
  },
  "language_info": {
   "codemirror_mode": {
    "name": "ipython",
    "version": 3
   },
   "file_extension": ".py",
   "mimetype": "text/x-python",
   "name": "python",
   "nbconvert_exporter": "python",
   "pygments_lexer": "ipython3",
   "version": "3.9.12"
  }
 },
 "nbformat": 4,
 "nbformat_minor": 5
}
