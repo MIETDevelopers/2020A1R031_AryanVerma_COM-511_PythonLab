{
 "cells": [
  {
   "cell_type": "code",
   "execution_count": 1,
   "id": "4714698f",
   "metadata": {},
   "outputs": [
    {
     "name": "stdout",
     "output_type": "stream",
     "text": [
      "40 is present in list at index 3\n",
      "50 is present in list at index None\n"
     ]
    }
   ],
   "source": [
    "#binary search using iteration\n",
    "def binarySearch(l,num):\n",
    "    low = 0   #starting index\n",
    "    upper = len(l)-1   #ending index\n",
    "    mid = 0\n",
    "    while low <= upper:\n",
    "        mid = (upper + low) // 2\n",
    "        if l[mid] < num:\n",
    "            low = mid + 1\n",
    "\n",
    "        elif l[mid] > num:\n",
    "            upper = mid - 1\n",
    "\n",
    "        else:\n",
    "            return mid\n",
    "\n",
    "l = [6,20,30,40,50,60,70]    #sorted list\n",
    "#l = [22,43,16,89,6,40,70]   #unsorted list\n",
    "#l.sort()\n",
    "num = 40\n",
    "\n",
    "result = binarySearch(l,num)\n",
    "if (result != -1):\n",
    "    print(f\"{num} is present in list at index {result}\")\n",
    "else:\n",
    "    print(f\"{num} is not in the list\")\n",
    "\n",
    "\n",
    "#binary search using recursion\n",
    "def binarySearch(l,num):\n",
    "    low = 0\n",
    "    upper = len(l)-1\n",
    "    mid = 0\n",
    "    if low <= upper:\n",
    "        mid = (upper + low) // 2\n",
    "        if l[mid] < num:\n",
    "            low = mid + 1\n",
    "\n",
    "        elif l[mid] > num:\n",
    "            upper = mid - 1\n",
    "\n",
    "        else:\n",
    "            return mid\n",
    "\n",
    "l = [6,20,30,40,50,60,70]    #sorted list\n",
    "#l = [22,43,16,89,6,40,70]   #unsorted list\n",
    "#l.sort()\n",
    "num = 50\n",
    "\n",
    "result = binarySearch(l,num)\n",
    "if (result != -1):\n",
    "    print(f\"{num} is present in list at index {result}\")\n",
    "else:\n",
    "    print(f\"{num} is not in the list\")"
   ]
  },
  {
   "cell_type": "code",
   "execution_count": 3,
   "id": "feda7b7c",
   "metadata": {},
   "outputs": [
    {
     "name": "stdout",
     "output_type": "stream",
     "text": [
      "[-9, 0, 2, 11, 23, 33, 45, 545]\n"
     ]
    }
   ],
   "source": [
    "#Bubble sort \n",
    "\n",
    "def bubbleSort(list):\n",
    "    \n",
    "  # loop to access each array element\n",
    "  for i in range(len(list)):\n",
    "    # loop to compare array elements\n",
    "    for j in range(len(list) - i - 1):\n",
    "    # compare two adjacent elements\n",
    "      if list[j] > list[j + 1]:\n",
    "        # swapping elements if elements are not in the intended order\n",
    "        temp = list[j]\n",
    "        list[j] = list[j+1]\n",
    "        list[j+1] = temp\n",
    "\n",
    "list  = [2,33,45,0,11,23,545,-9]\n",
    "bubbleSort(list)\n",
    "print(list)"
   ]
  },
  {
   "cell_type": "code",
   "execution_count": 4,
   "id": "d95435c0",
   "metadata": {},
   "outputs": [
    {
     "name": "stdout",
     "output_type": "stream",
     "text": [
      "hello is present in the List.\n"
     ]
    }
   ],
   "source": [
    "#linear search\n",
    "def linearSearch(l,num):   #passing list and the number we have to find as arguments\n",
    "    for items in l:        #iterating over list\n",
    "        if (num == items):\n",
    "            print(f\"{num} is present in the List.\")\n",
    "            break\n",
    "    else:\n",
    "        print(f\"{num} is not in the List.\")\n",
    "\n",
    "l = [23,'hello',89,67,'pink']\n",
    "num = 'hello'\n",
    "linearSearch(l,num)"
   ]
  },
  {
   "cell_type": "code",
   "execution_count": 5,
   "id": "31504c1d",
   "metadata": {},
   "outputs": [
    {
     "name": "stdout",
     "output_type": "stream",
     "text": [
      "[5, 6, 11, 12, 13]\n"
     ]
    }
   ],
   "source": [
    "#insertion sort\n",
    "def insertionSort(list):\n",
    "    for i in range(len(list)):\n",
    "        key = list[i]\n",
    "        j = i-1\n",
    " # Compare key with each element on the left of it until an element smaller than it is found\n",
    "        while j >= 0 and key < list[j] :\n",
    "                list[j+1] = list[j]\n",
    "                j = j - 1\n",
    "# Place key at after the element just smaller than it.\n",
    "        list[j+1] = key\n",
    "\n",
    "list = [12, 11, 13, 5, 6]\n",
    "insertionSort(list)\n",
    "print(list)"
   ]
  },
  {
   "cell_type": "code",
   "execution_count": 6,
   "id": "dd215f82",
   "metadata": {},
   "outputs": [
    {
     "name": "stdout",
     "output_type": "stream",
     "text": [
      "[0, 2, 3, 12, 23, 33, 56, 56, 78, 90]\n"
     ]
    }
   ],
   "source": [
    "#merge sort\n",
    "def mergeSort(list):\n",
    "    if len(list) > 1:  \n",
    "        mid = len(list) // 2  #dividing the list into two halves\n",
    "        left = list[ : mid]   #silicing the list\n",
    "        right = list[mid : ]\n",
    "\n",
    "        mergeSort(left)   #using iterations\n",
    "        mergeSort(right)\n",
    "\n",
    "        i = j = k = 0   #intializing pointers to zero\n",
    "\n",
    "        while i < (len(left)) and j < (len(right)):\n",
    "            if left[i] <= right[j]:   #if the element at ith index is less than jth it will print ith element in list\n",
    "                list[k] = left[i]\n",
    "                i = i + 1\n",
    "            else:\n",
    "                list[k] = right[j]\n",
    "                j = j + 1\n",
    "\n",
    "            k = k + 1\n",
    "    \n",
    "        while i < len(left):    #if j > len(list) the it will print the remaining ith indexes as it is\n",
    "            list[k] = left[i]\n",
    "            i = i + 1\n",
    "            k = k + 1\n",
    "\n",
    "        while j < len(right):     #if i > len(list) the it will print the remaining ith indexes as it is\n",
    "            list[k]=right[j]\n",
    "            j = j + 1\n",
    "            k = k + 1\n",
    "\n",
    "list = [23,56,78,12,2,90,33,0,3,56]\n",
    "mergeSort(list)\n",
    "print(list)"
   ]
  },
  {
   "cell_type": "code",
   "execution_count": null,
   "id": "81c1b60b",
   "metadata": {},
   "outputs": [],
   "source": []
  }
 ],
 "metadata": {
  "kernelspec": {
   "display_name": "Python 3 (ipykernel)",
   "language": "python",
   "name": "python3"
  },
  "language_info": {
   "codemirror_mode": {
    "name": "ipython",
    "version": 3
   },
   "file_extension": ".py",
   "mimetype": "text/x-python",
   "name": "python",
   "nbconvert_exporter": "python",
   "pygments_lexer": "ipython3",
   "version": "3.9.12"
  }
 },
 "nbformat": 4,
 "nbformat_minor": 5
}
