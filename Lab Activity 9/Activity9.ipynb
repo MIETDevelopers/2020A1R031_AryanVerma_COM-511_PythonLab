{
 "cells": [
  {
   "cell_type": "code",
   "execution_count": 1,
   "id": "f0cad5fe",
   "metadata": {},
   "outputs": [
    {
     "name": "stdout",
     "output_type": "stream",
     "text": [
      "Enter the length for side 1 : 4\n",
      "Enter the length for side 2 : 5\n",
      "Enter the length for side 3 : 4\n",
      "Triangle is not Right-Angled\n",
      "Area =  7.806247497997997\n"
     ]
    }
   ],
   "source": [
    "'''a python program that accepts the length of three sides of a triangle\n",
    "as inputs. The program should indicate whether or not the triangle is a\n",
    "right-angled triangle. Also find out its area using Heron's formula.'''\n",
    "\n",
    "#taking sides through user\n",
    "s1 = int(input('Enter the length for side 1 : '))\n",
    "s2 = int(input('Enter the length for side 2 : '))\n",
    "s3 = int(input('Enter the length for side 3 : '))\n",
    "if(s3*s3 == s1*s1 + s2*s2): #using pythagores theorem \n",
    "    print(\"Triangle is RIGHT-ANGLED\")\n",
    "else:\n",
    "    print(\"Triangle is not Right-Angled\")\n",
    "s_peri = (s1 + s2 + s3) / 2  #area using heron's formula\n",
    "area = ((s_peri)*(s_peri-s1)*(s_peri-s2)*(s_peri-s3))**0.5\n",
    "print(\"Area = \",area)"
   ]
  },
  {
   "cell_type": "code",
   "execution_count": 2,
   "id": "7351ad11",
   "metadata": {},
   "outputs": [
    {
     "name": "stdout",
     "output_type": "stream",
     "text": [
      "Enter the Range : 4\n",
      "1 2 3 4 "
     ]
    }
   ],
   "source": [
    "'''Python program to print all positive numbers in a range'''\n",
    "n = int(input('Enter the Range : '))\n",
    "for i in range(1,n+1):#using for loop to iterate over numbers \n",
    "    if(i>0):\n",
    "        print(i,end = \" \")"
   ]
  },
  {
   "cell_type": "code",
   "execution_count": 3,
   "id": "9b6d66b5",
   "metadata": {},
   "outputs": [
    {
     "name": "stdout",
     "output_type": "stream",
     "text": [
      "Enter how many elements you want : 4\n",
      "Enter The Number 1 : 3\n",
      "Enter The Number 2 : 2\n",
      "Enter The Number 3 : 3\n",
      "Enter The Number 4 : 4\n",
      "List = [3, 2, 3, 4]\n",
      "Sum of digits of List :  [3, 2, 3, 4]\n"
     ]
    }
   ],
   "source": [
    "'''Sum of number digits in List'''\n",
    "l = []  #creating an empty list\n",
    "n = int(input(f\"Enter how many elements you want : \"))\n",
    "for i in range(n):  #using for loop for entering the number\n",
    "    num = int(input(f\"Enter The Number {i+1} : \"))\n",
    "    l.append(num) #it will add the numbers entered by user in the list l\n",
    "print(f\"List = {l}\")\n",
    "\n",
    "temp = []  #creating a temporary list\n",
    "for ele in l: #iterating over the elemnts in the list l\n",
    "    sum = 0 #intiliazing the sum of digits to zero\n",
    "    for digit in str(ele): #using for loop \n",
    "        sum = sum + int(digit)\n",
    "    temp.append(sum)\n",
    "     \n",
    "print (\"Sum of digits of List : \",temp)"
   ]
  },
  {
   "cell_type": "code",
   "execution_count": null,
   "id": "26acfea5",
   "metadata": {},
   "outputs": [],
   "source": []
  }
 ],
 "metadata": {
  "kernelspec": {
   "display_name": "Python 3 (ipykernel)",
   "language": "python",
   "name": "python3"
  },
  "language_info": {
   "codemirror_mode": {
    "name": "ipython",
    "version": 3
   },
   "file_extension": ".py",
   "mimetype": "text/x-python",
   "name": "python",
   "nbconvert_exporter": "python",
   "pygments_lexer": "ipython3",
   "version": "3.9.12"
  }
 },
 "nbformat": 4,
 "nbformat_minor": 5
}
