{
 "cells": [
  {
   "cell_type": "code",
   "execution_count": 1,
   "id": "ccae3e29",
   "metadata": {},
   "outputs": [
    {
     "name": "stdout",
     "output_type": "stream",
     "text": [
      "Sting = helloWorld\n",
      "h\n",
      "l\n",
      "o\n",
      "d\n",
      "r\n",
      "W\n",
      "helloWorld\n",
      "loWo\n",
      "hell\n",
      "helloWorl\n"
     ]
    }
   ],
   "source": [
    "#Indexing and Slicing on strings\n",
    "str = \"helloWorld\"\n",
    "print(\"Sting =\",str) \n",
    "\n",
    "#positive Indexing\n",
    "print(str[0])  #prints the element present at 0th index\n",
    "print(str[2])   #prints the element present at 2nd index\n",
    "print(str[4])   #prints the element present at 4th index\n",
    "\n",
    "#negative Indexing\n",
    "print(str[-1])  #prints the element present at last index\n",
    "print(str[-3])  #prints the element present at 3rd last index\n",
    "print(str[-5])  #prints the element present at 5th last index\n",
    "\n",
    "#slicing\n",
    "print(str[0:])  #prints the element from 0 index to the end\n",
    "print(str[3:7])  #prints the element from 3rd index to 6th index\n",
    "print(str[:4])   #prints the element from 0th index to 3rd index\n",
    "print(str[:-1])  #prints the element from 0th index to 2nd last index"
   ]
  },
  {
   "cell_type": "code",
   "execution_count": 2,
   "id": "49ad3f6a",
   "metadata": {},
   "outputs": [
    {
     "name": "stdout",
     "output_type": "stream",
     "text": [
      "String : hello World\n",
      "11\n",
      "True\n",
      "3\n",
      "Hello world\n",
      "6\n",
      "HELLO WORLD\n",
      "hello world\n",
      "hello world\n",
      "True\n",
      "False\n",
      "False\n",
      "False\n"
     ]
    }
   ],
   "source": [
    "#methods\n",
    "name=\"hello World\"\n",
    "#prints the string\n",
    "print(\"String :\",name)\n",
    "#prints length of sting\n",
    "print(len(name))\n",
    "#Returns true if the string ends with the specified value\n",
    "print(name.endswith(\"ld\"))\n",
    "#Returns the number of times a specified value occurs in a string\n",
    "print(name.count(\"l\"))\n",
    "#Converts the first character to upper case\n",
    "print(name.capitalize())\n",
    "#Searches the string for a specified value and returns the position of where it was found\n",
    "print(name.find(\"World\"))\n",
    "#Converts a string into upper case\n",
    "print(name.upper())\n",
    "#Converts a string into lower case\n",
    "print(name.lower())\n",
    "#Converts string into lower case\n",
    "print(name.casefold())\n",
    "#Returns True if all characters in the string are ascii characters\n",
    "print(name.isascii())\n",
    "#Returns True if all characters in the string are digits\n",
    "print(name.isdigit())\n",
    "#Returns True if all characters in the string are numeric\n",
    "print(name.isnumeric())\n",
    "#Returns True if all characters in the string are decimals\n",
    "print(name.isdecimal())"
   ]
  },
  {
   "cell_type": "code",
   "execution_count": 3,
   "id": "f3096f2e",
   "metadata": {},
   "outputs": [
    {
     "name": "stdout",
     "output_type": "stream",
     "text": [
      "Hello ! Good Morining\n",
      "Good MoriningGood MoriningGood Morining\n",
      "True\n",
      "False\n"
     ]
    }
   ],
   "source": [
    "#operations on strings\n",
    "#assignment operator\n",
    "str1 = 'Hello !'\n",
    "str2 = 'Good Morining'\n",
    "\n",
    "# concatination using + opertors\n",
    "str = str1 + \" \" + str2\n",
    "print(str)\n",
    "\n",
    "# repition using * operator\n",
    "str = str2*3\n",
    "print(str)\n",
    "\n",
    "#membership operator\n",
    "print('o' in str2)\n",
    "print('o' not in str2)"
   ]
  },
  {
   "cell_type": "code",
   "execution_count": null,
   "id": "aca18145",
   "metadata": {},
   "outputs": [],
   "source": []
  }
 ],
 "metadata": {
  "kernelspec": {
   "display_name": "Python 3 (ipykernel)",
   "language": "python",
   "name": "python3"
  },
  "language_info": {
   "codemirror_mode": {
    "name": "ipython",
    "version": 3
   },
   "file_extension": ".py",
   "mimetype": "text/x-python",
   "name": "python",
   "nbconvert_exporter": "python",
   "pygments_lexer": "ipython3",
   "version": "3.9.12"
  }
 },
 "nbformat": 4,
 "nbformat_minor": 5
}
