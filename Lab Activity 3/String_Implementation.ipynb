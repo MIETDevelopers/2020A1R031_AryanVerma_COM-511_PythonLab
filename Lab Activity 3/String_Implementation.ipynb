{
 "cells": [
  {
   "cell_type": "code",
   "execution_count": 1,
   "id": "40467d72",
   "metadata": {},
   "outputs": [
    {
     "name": "stdout",
     "output_type": "stream",
     "text": [
      "Number of Alphabet : 22\n",
      "Number of Alphabet : 28\n"
     ]
    }
   ],
   "source": [
    "#Count the number of alphabets in the given string.\n",
    "#using isalpha()\n",
    "#isalpha() method returns True if the given string contains only alphabets.\n",
    "str = 'welcomeToWorldOfPython'\n",
    "count = 0\n",
    "for i in str:    # i holds each character in String s for every iteration of loop\n",
    "    if (i.isalpha()):  \n",
    "        count = count + 1    # Increment Count by 1\n",
    "print(\"Number of Alphabet :\",count)     \n",
    "\n",
    "str = 'welcomeToWorldOfPython123@string'\n",
    "count = 0\n",
    "for i in str:    # i holds each character in String s for every iteration of loop\n",
    "    if (i.isalpha()):  \n",
    "        count = count + 1    # Increment Count by 1\n",
    "print(\"Number of Alphabet :\",count)"
   ]
  },
  {
   "cell_type": "code",
   "execution_count": 2,
   "id": "38daa730",
   "metadata": {},
   "outputs": [
    {
     "name": "stdout",
     "output_type": "stream",
     "text": [
      "String ['welcome', 'To', 'World', 'Of', 'Python']\n",
      "Required Output = eToWor\n"
     ]
    }
   ],
   "source": [
    "#To extract characters in the given, range from the given string.\n",
    "#using list comprehension and join()\n",
    "str = [\"welcome\",\"To\",\"World\",\"Of\",\"Python\"]\n",
    "print(\"String\",str)\n",
    "start,end = 6, 12\n",
    "newstr = \"\".join([sub for sub in str])[start:end]\n",
    "print(f\"Required Output = {newstr}\")"
   ]
  },
  {
   "cell_type": "code",
   "execution_count": 4,
   "id": "22e4e555",
   "metadata": {},
   "outputs": [
    {
     "name": "stdout",
     "output_type": "stream",
     "text": [
      "String = welcomeToWorldOfPython\n",
      "True\n",
      "String = welcomeToWorldOfPython123\n",
      "True\n",
      "String = welcomeToWorldOfPython 123\n",
      "False\n",
      "String = welcomeToWorldOfPython_123\n",
      "False\n"
     ]
    }
   ],
   "source": [
    "#Check if the string is alphanumeric or not\n",
    "str = 'welcomeToWorldOfPython'\n",
    "print(\"String =\",str)\n",
    "print(str.isalnum())  #prints true if string contains only alphabet and numeric part and no whitespaces \n",
    "\n",
    "str = 'welcomeToWorldOfPython123'\n",
    "print(\"String =\",str)\n",
    "print(str.isalnum()) \n",
    "\n",
    "str = 'welcomeToWorldOfPython 123'\n",
    "print(\"String =\",str)\n",
    "print(str.isalnum()) #prints false as it contains whitespaces\n",
    "\n",
    "str = 'welcomeToWorldOfPython_123'\n",
    "print(\"String =\",str)  #prints false as it contains special character\n",
    "print(str.isalnum())"
   ]
  },
  {
   "cell_type": "code",
   "execution_count": null,
   "id": "42126732",
   "metadata": {},
   "outputs": [],
   "source": []
  }
 ],
 "metadata": {
  "kernelspec": {
   "display_name": "Python 3 (ipykernel)",
   "language": "python",
   "name": "python3"
  },
  "language_info": {
   "codemirror_mode": {
    "name": "ipython",
    "version": 3
   },
   "file_extension": ".py",
   "mimetype": "text/x-python",
   "name": "python",
   "nbconvert_exporter": "python",
   "pygments_lexer": "ipython3",
   "version": "3.9.12"
  }
 },
 "nbformat": 4,
 "nbformat_minor": 5
}
