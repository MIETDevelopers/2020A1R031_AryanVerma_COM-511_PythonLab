{
 "cells": [
  {
   "cell_type": "code",
   "execution_count": 2,
   "id": "de8053b5",
   "metadata": {},
   "outputs": [
    {
     "name": "stdout",
     "output_type": "stream",
     "text": [
      "Enter The First Number : 3\n",
      "Enter the Second Number : 8\n",
      "Enter the Third Number : 4\n",
      "Maximum = 8\n",
      "Enter how many elements you want : 4\n",
      "Enter The Number 1 : 6\n",
      "Enter The Number 2 : 8\n",
      "Enter The Number 3 : 9\n",
      "Enter The Number 4 : 3\n",
      "List = [6, 8, 9, 3]\n",
      "Max  9\n"
     ]
    }
   ],
   "source": [
    "#maximum of 3 numbers\n",
    "\n",
    "#using function\n",
    "a = int(input(\"Enter The First Number : \"))\n",
    "b = int(input(\"Enter the Second Number : \"))\n",
    "c = int(input(\"Enter the Third Number : \"))\n",
    "\n",
    "def maximum(a,b,c):\n",
    "    if a>=b and a>=c:  \n",
    "        return a\n",
    "    elif b>=a and b>=c:\n",
    "        return b\n",
    "    else:\n",
    "        return c\n",
    "print(f\"Maximum = {maximum(a,b,c)}\")\n",
    "\n",
    "#using lists and max function\n",
    "l = []\n",
    "n = int(input(f\"Enter how many elements you want : \"))\n",
    "for i in range(n):\n",
    "    num = int(input(f\"Enter The Number {i+1} : \"))\n",
    "    l.append(num)\n",
    "print(f\"List = {l}\")\n",
    "max_l=max(l)\n",
    "print(\"Max \",max_l)"
   ]
  },
  {
   "cell_type": "code",
   "execution_count": 3,
   "id": "32495802",
   "metadata": {},
   "outputs": [
    {
     "name": "stdout",
     "output_type": "stream",
     "text": [
      "True\n",
      "False\n"
     ]
    }
   ],
   "source": [
    "'''Program for Armstrong Numbers'''\n",
    "def power(x, y):  \n",
    "    if y == 0:\n",
    "        return 1\n",
    "    if y % 2 == 0:\n",
    "        return power(x, y // 2) * power(x, y // 2)   \n",
    "    return x * power(x, y // 2) * power(x, y // 2)\n",
    "#Function to calculate order of the number\n",
    "def order(x):\n",
    "#Variable to store of the number\n",
    "    n = 0\n",
    "    while (x != 0):\n",
    "        n = n + 1\n",
    "        x = x // 10\n",
    "    return n\n",
    " \n",
    "#Function to check whether the given\n",
    "#number is Armstrong number or not\n",
    "def isArmstrong(x):    \n",
    "    n = order(x)\n",
    "    temp = x\n",
    "    sum1 = 0   \n",
    "    while (temp != 0):\n",
    "        r = temp % 10\n",
    "        sum1 = sum1 + power(r, n)\n",
    "        temp = temp // 10\n",
    "    # If condition satisfies\n",
    "    return (sum1 == x)\n",
    "x = 153\n",
    "print(isArmstrong(x))\n",
    " \n",
    "x = 1253\n",
    "print(isArmstrong(x))\n"
   ]
  },
  {
   "cell_type": "code",
   "execution_count": 4,
   "id": "41f1cc90",
   "metadata": {},
   "outputs": [
    {
     "name": "stdout",
     "output_type": "stream",
     "text": [
      "String = helloMotto\n",
      "Reversed string =  ottoMolleh\n"
     ]
    }
   ],
   "source": [
    "'''Reverse words in a given String in Python'''\n",
    "str = 'helloMotto'\n",
    "print('String =',str)\n",
    "print('Reversed string = ',str[::-1])\n",
    "#str[::-1] = it reverses the order of string an the prints it."
   ]
  },
  {
   "cell_type": "code",
   "execution_count": 6,
   "id": "61539b64",
   "metadata": {},
   "outputs": [
    {
     "name": "stdout",
     "output_type": "stream",
     "text": [
      "Enter the no of rows in the Matrix: 3\n",
      "Enter the no of columns in the Matrix: 3\n",
      "\n",
      "\n",
      "Enter the 00 element of Matrix: 1\n",
      "Enter the 01 element of Matrix: 2\n",
      "Enter the 02 element of Matrix: 3\n",
      "Enter the 10 element of Matrix: 4\n",
      "Enter the 11 element of Matrix: 5\n",
      "Enter the 12 element of Matrix: 6\n",
      "Enter the 20 element of Matrix: 7\n",
      "Enter the 21 element of Matrix: 8\n",
      "Enter the 22 element of Matrix: 9\n",
      "\n",
      "Matrix A = \n",
      "[1, 2, 3]\n",
      "[4, 5, 6]\n",
      "[7, 8, 9]\n",
      "\n",
      "\n",
      "Enter the 00 element of Matrix: 9\n",
      "Enter the 01 element of Matrix: 8\n",
      "Enter the 02 element of Matrix: 7\n",
      "Enter the 10 element of Matrix: 6\n",
      "Enter the 11 element of Matrix: 5\n",
      "Enter the 12 element of Matrix: 4\n",
      "Enter the 20 element of Matrix: 3\n",
      "Enter the 21 element of Matrix: 2\n",
      "Enter the 22 element of Matrix: 1\n",
      "\n",
      "Matrix B = \n",
      "[9, 8, 7]\n",
      "[6, 5, 4]\n",
      "[3, 2, 1]\n",
      "\n",
      "Resultant Matrix C = \n",
      "[30, 24, 18]\n",
      "[84, 69, 54]\n",
      "[138, 114, 90]\n"
     ]
    }
   ],
   "source": [
    "# Multiplication of two user defined matrices using function.\n",
    "def matrix(rows, columns):\n",
    "    l1 = []\n",
    "    print(\"\\n\")\n",
    "    for i in range(rows):\n",
    "        l2 = []\n",
    "        for j in range(columns):\n",
    "            ele = int(input(f\"Enter the {i}{j} element of Matrix: \"))\n",
    "            l2.append(ele)\n",
    "        l1.append(l2)\n",
    "\n",
    "    return l1\n",
    "\n",
    "def multiplication(matrix1, matrix2, matrix3):\n",
    "    for i in range(r):\n",
    "        for j in range(c):\n",
    "            sum = 0\n",
    "            for k in range(c):\n",
    "                sum += matrix1[i][k] * matrix2[k][j]\n",
    "            matrix3[i][j] = sum\n",
    "    return matrix3\n",
    "\n",
    "def printMatrixForm(matrix):\n",
    "    for items in matrix:\n",
    "        print(items)\n",
    "\n",
    "\n",
    "r = int(input(\"Enter the no of rows in the Matrix: \"))\n",
    "c = int(input(\"Enter the no of columns in the Matrix: \"))\n",
    "\n",
    "A = matrix(r,c)\n",
    "print(\"\\nMatrix A = \")\n",
    "printMatrixForm(A)\n",
    "B = matrix(r,c)\n",
    "print(\"\\nMatrix B = \")\n",
    "printMatrixForm(B)\n",
    "C = [[0,0,0],[0,0,0],[0,0,0]]\n",
    "result = multiplication(A,B,C)\n",
    "print(\"\\nResultant Matrix C = \")\n",
    "printMatrixForm(result)"
   ]
  },
  {
   "cell_type": "code",
   "execution_count": null,
   "id": "680b62e7",
   "metadata": {},
   "outputs": [],
   "source": [
    "#using lists and max function\n",
    "l = []\n",
    "n = int(input(f\"Enter how many elements you want : \"))\n",
    "for i in range(num):\n",
    "    num = int(input(f\"Enter The Number {i+1} : \"))\n",
    "    l.append(n)\n",
    "print(f\"List = {l}\")\n",
    "print(max({l}))"
   ]
  },
  {
   "cell_type": "markdown",
   "id": "05be95d9",
   "metadata": {},
   "source": [
    "\n",
    "Command Line Arguments\n",
    "   \n",
    "Enter how many elements you want : \n",
    "3\n",
    "Enter The Number 1 : \n",
    "2\n",
    "Enter The Number 2 : \n",
    "3\n",
    "Enter The Number 3 : \n",
    "5\n",
    "List = [2, 3, 5]\n",
    "Sum of digits of List :  [2, 3, 5]\n"
   ]
  },
  {
   "cell_type": "code",
   "execution_count": null,
   "id": "92d8eb2f",
   "metadata": {},
   "outputs": [],
   "source": []
  },
  {
   "cell_type": "code",
   "execution_count": null,
   "id": "b2346eac",
   "metadata": {},
   "outputs": [],
   "source": []
  }
 ],
 "metadata": {
  "kernelspec": {
   "display_name": "Python 3 (ipykernel)",
   "language": "python",
   "name": "python3"
  },
  "language_info": {
   "codemirror_mode": {
    "name": "ipython",
    "version": 3
   },
   "file_extension": ".py",
   "mimetype": "text/x-python",
   "name": "python",
   "nbconvert_exporter": "python",
   "pygments_lexer": "ipython3",
   "version": "3.9.12"
  }
 },
 "nbformat": 4,
 "nbformat_minor": 5
}
