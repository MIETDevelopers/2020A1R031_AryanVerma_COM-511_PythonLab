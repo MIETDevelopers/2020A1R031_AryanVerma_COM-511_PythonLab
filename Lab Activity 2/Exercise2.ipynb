{
 "cells": [
  {
   "cell_type": "code",
   "execution_count": 1,
   "id": "73ddcfb7",
   "metadata": {},
   "outputs": [
    {
     "name": "stdout",
     "output_type": "stream",
     "text": [
      "List = [23, 56, 33, 89, 34, 88]\n",
      "Even Numbers are :\n",
      "56\n",
      "34\n",
      "88\n"
     ]
    }
   ],
   "source": [
    "#Program to Find Even Numbers From a List\n",
    "list = [23,56,33,89,34,88]\n",
    "print(\"List =\",list)\n",
    "print(\"Even Numbers are :\")\n",
    "for num in list:\n",
    "    if num % 2 == 0:\n",
    "        print(num)"
   ]
  },
  {
   "cell_type": "code",
   "execution_count": 4,
   "id": "6e84cb8e",
   "metadata": {},
   "outputs": [
    {
     "name": "stdout",
     "output_type": "stream",
     "text": [
      "List = [100, 80, 60, 40, 20, 0]\n",
      "Intechanged list = [0, 80, 60, 40, 20, 100]\n",
      "Intechanged list = [100, 80, 60, 40, 20, 0]\n"
     ]
    }
   ],
   "source": [
    "#Interchange First and Last Element of a List\n",
    "list = [100,80,60,40,20,0]\n",
    "print(\"List =\",list)\n",
    "temp = list[0]   #by swapping method\n",
    "list[0] = list[-1]\n",
    "list[-1] = temp\n",
    "print(\"Intechanged list =\",list)\n",
    "\n",
    "#second method\n",
    "list[0], list[-1] = list[-1], list[0]\n",
    "print(\"Intechanged list =\",list)"
   ]
  },
  {
   "cell_type": "code",
   "execution_count": 3,
   "id": "8d38da45",
   "metadata": {},
   "outputs": [
    {
     "name": "stdout",
     "output_type": "stream",
     "text": [
      "List A = [1, 3, 5, 7, 9]\n",
      "List B = [2, 4, 6, 8, 10]\n",
      "LIST C = [1, 3, 5, 7, 9, 2, 4, 6, 8, 10]\n",
      "List = [1, 3, 5, 7, 9, 2, 4, 6, 8, 10]\n"
     ]
    }
   ],
   "source": [
    "#Program to Merge Two Lists\n",
    "listA = [1,3,5,7,9]\n",
    "listB = [2,4,6,8,10]\n",
    "print(\"List A =\",listA)\n",
    "print(\"List B =\",listB)\n",
    "listC = listA + listB  #using + operator\n",
    "print(\"LIST C =\",listC)\n",
    "\n",
    "#using extend method\n",
    "listA.extend(listB)\n",
    "print(\"List =\",listA)"
   ]
  },
  {
   "cell_type": "code",
   "execution_count": null,
   "id": "8f5cc7a7",
   "metadata": {},
   "outputs": [],
   "source": []
  }
 ],
 "metadata": {
  "kernelspec": {
   "display_name": "Python 3 (ipykernel)",
   "language": "python",
   "name": "python3"
  },
  "language_info": {
   "codemirror_mode": {
    "name": "ipython",
    "version": 3
   },
   "file_extension": ".py",
   "mimetype": "text/x-python",
   "name": "python",
   "nbconvert_exporter": "python",
   "pygments_lexer": "ipython3",
   "version": "3.9.12"
  }
 },
 "nbformat": 4,
 "nbformat_minor": 5
}
