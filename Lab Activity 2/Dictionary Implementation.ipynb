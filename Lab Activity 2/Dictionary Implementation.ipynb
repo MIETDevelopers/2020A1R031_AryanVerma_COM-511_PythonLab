{
 "cells": [
  {
   "cell_type": "code",
   "execution_count": 1,
   "id": "b8c08fab",
   "metadata": {},
   "outputs": [
    {
     "name": "stdout",
     "output_type": "stream",
     "text": [
      "Key is present in the dictionary\n",
      "Key is not present in the dictionary\n"
     ]
    }
   ],
   "source": [
    "#Python script to check whether a given key already exists in a dictionary\n",
    "d = {1: 10, 2: 20, 3: 30, 4: 40, 5: 50, 6: 60}\n",
    "def is_key_present(x):\n",
    "    if x in d:\n",
    "        print('Key is present in the dictionary')\n",
    "    else:\n",
    "        print('Key is not present in the dictionary')\n",
    "is_key_present(5)\n",
    "\n",
    "is_key_present(9)"
   ]
  },
  {
   "cell_type": "code",
   "execution_count": 2,
   "id": "ce202344",
   "metadata": {},
   "outputs": [
    {
     "name": "stdout",
     "output_type": "stream",
     "text": [
      "{'a': 100, 'b': 200, 'x': 300, 'y': 200}\n"
     ]
    }
   ],
   "source": [
    "#Python script to merge two Python dictionaries\n",
    "d1 = {'a': 100, 'b': 200}\n",
    "d2 = {'x': 300, 'y': 200}\n",
    "d = d1.copy()\n",
    "d.update(d2)\n",
    "print(d)"
   ]
  },
  {
   "cell_type": "code",
   "execution_count": 3,
   "id": "6ca58591",
   "metadata": {},
   "outputs": [
    {
     "name": "stdout",
     "output_type": "stream",
     "text": [
      "Dictionary = {'pen': 20, 'copy': 100, 'pencil': 10}\n",
      "Rate of pen = 20\n",
      "Rate of pencil = 10\n",
      "Rate of copy = 100\n",
      "Updated Dictionary = {'pen': 20, 'pencil': 10}\n",
      "<class 'dict'>\n"
     ]
    }
   ],
   "source": [
    "dict = {'pen':20,'copy':100,'pencil':10}  #creation of dictionary\n",
    "print(\"Dictionary =\",dict)  #printing dictionary\n",
    "#acessing the values\n",
    "print(\"Rate of pen =\",dict['pen'])\n",
    "print(\"Rate of pencil =\",dict['pencil'])\n",
    "print(\"Rate of copy =\",dict['copy'])\n",
    "#deleting elements of dictionary\n",
    "del dict[\"copy\"]\n",
    "print(\"Updated Dictionary =\",dict)\n",
    "#delecting the dictionary itself\n",
    "del dict\n",
    "print(dict)"
   ]
  },
  {
   "cell_type": "code",
   "execution_count": null,
   "id": "e7476778",
   "metadata": {},
   "outputs": [],
   "source": []
  }
 ],
 "metadata": {
  "kernelspec": {
   "display_name": "Python 3 (ipykernel)",
   "language": "python",
   "name": "python3"
  },
  "language_info": {
   "codemirror_mode": {
    "name": "ipython",
    "version": 3
   },
   "file_extension": ".py",
   "mimetype": "text/x-python",
   "name": "python",
   "nbconvert_exporter": "python",
   "pygments_lexer": "ipython3",
   "version": "3.9.12"
  }
 },
 "nbformat": 4,
 "nbformat_minor": 5
}
