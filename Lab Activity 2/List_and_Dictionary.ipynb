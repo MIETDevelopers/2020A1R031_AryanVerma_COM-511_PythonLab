{
 "cells": [
  {
   "cell_type": "code",
   "execution_count": 5,
   "id": "58f27add",
   "metadata": {},
   "outputs": [
    {
     "name": "stdout",
     "output_type": "stream",
     "text": [
      "29\n",
      "39\n",
      "49\n",
      "59\n",
      "69\n"
     ]
    }
   ],
   "source": [
    "#Using list comprehension\n",
    "list = [29,39,49,59,69]\n",
    "for i in list:\n",
    "    print(i)"
   ]
  },
  {
   "cell_type": "code",
   "execution_count": 8,
   "id": "3393446c",
   "metadata": {},
   "outputs": [
    {
     "name": "stdout",
     "output_type": "stream",
     "text": [
      "29\n",
      "39\n",
      "49\n",
      "59\n",
      "69\n"
     ]
    },
    {
     "data": {
      "text/plain": [
       "[None, None, None, None, None]"
      ]
     },
     "execution_count": 8,
     "metadata": {},
     "output_type": "execute_result"
    }
   ],
   "source": [
    "#Using list comprehension\n",
    "list = [29,39,49,59,69]\n",
    "#[print(i) for i in list]\n",
    "[print(i) for i in list]"
   ]
  },
  {
   "cell_type": "code",
   "execution_count": 9,
   "id": "1049de5c",
   "metadata": {},
   "outputs": [
    {
     "name": "stdout",
     "output_type": "stream",
     "text": [
      "dict_keys([1, 2, 3, 4])\n"
     ]
    }
   ],
   "source": [
    "#Access key using the build .keys() in dictionary\n",
    "oneAndTens = {1:10,2:20,3:30,4:40}\n",
    "keys = oneAndTens.keys()\n",
    "print(keys)"
   ]
  },
  {
   "cell_type": "code",
   "execution_count": 12,
   "id": "d4f7b29b",
   "metadata": {},
   "outputs": [
    {
     "name": "stdout",
     "output_type": "stream",
     "text": [
      "list of ones : \n",
      "1 2 3 4 "
     ]
    }
   ],
   "source": [
    "#Access key without using a key() in dictionary\n",
    "oneAndTens={1:10,2:20,3:30,4:40}\n",
    "print(\"list of ones : \")\n",
    "for one in oneAndTens:\n",
    "    print(one,end =\" \")"
   ]
  },
  {
   "cell_type": "code",
   "execution_count": 16,
   "id": "54823aa7",
   "metadata": {},
   "outputs": [
    {
     "name": "stdout",
     "output_type": "stream",
     "text": [
      "List of Tens :\n",
      "10 20 30 40 "
     ]
    }
   ],
   "source": [
    "#Iterate through all values using .values() in dictionary\n",
    "oneAndTens = {1:10,2:20,3:30,4:40}\n",
    "print('List of Tens :')\n",
    "for Tens in oneAndTens.values():\n",
    "    print(Tens,end = \" \")\n",
    "     "
   ]
  },
  {
   "cell_type": "code",
   "execution_count": 18,
   "id": "84a5e181",
   "metadata": {},
   "outputs": [
    {
     "name": "stdout",
     "output_type": "stream",
     "text": [
      "List of Ones And Tens :\n",
      "1 : 10 2 : 20 3 : 30 4 : 40 "
     ]
    }
   ],
   "source": [
    "#Iterate through all key, and value pairs using items() in dictionary\n",
    "oneAndTens = {1:10,2:20,3:30,4:40}\n",
    "print(\"List of Ones And Tens :\")\n",
    "for one ,Tens in oneAndTens.items():\n",
    "    print(one,\":\",Tens,end = \" \")"
   ]
  },
  {
   "cell_type": "code",
   "execution_count": 19,
   "id": "efac526d",
   "metadata": {},
   "outputs": [
    {
     "name": "stdout",
     "output_type": "stream",
     "text": [
      "1 : 10\n",
      "2 : 20\n",
      "3 : 30\n",
      "4 : 40\n"
     ]
    }
   ],
   "source": [
    "#Access both key and value without using items() in dictionary\n",
    "oneAndTens = {1:10,2:20,3:30,4:40}\n",
    "for i in oneAndTens:\n",
    "    print(i,\":\",oneAndTens[i])"
   ]
  },
  {
   "cell_type": "code",
   "execution_count": 20,
   "id": "7ab045f3",
   "metadata": {},
   "outputs": [
    {
     "name": "stdout",
     "output_type": "stream",
     "text": [
      "dict_items([(1, 10), (2, 20), (3, 30), (4, 40)])\n"
     ]
    }
   ],
   "source": [
    "#Print items in Key-Value in pair in dictionary\n",
    "oneAndTens = {1:10,2:20,3:30,4:40}\n",
    "keys = oneAndTens.items()\n",
    "print(keys)"
   ]
  },
  {
   "cell_type": "code",
   "execution_count": 30,
   "id": "b7e392ca",
   "metadata": {},
   "outputs": [
    {
     "name": "stdout",
     "output_type": "stream",
     "text": [
      "23 59 89 "
     ]
    }
   ],
   "source": [
    "#using for loop in lists\n",
    "list = [23,59,89]\n",
    "for num in list:\n",
    "    print(num,end = \" \")"
   ]
  },
  {
   "cell_type": "code",
   "execution_count": 24,
   "id": "6c6f2eb2",
   "metadata": {},
   "outputs": [
    {
     "name": "stdout",
     "output_type": "stream",
     "text": [
      "10 20 30 40 50 "
     ]
    }
   ],
   "source": [
    "#using for loop and range() in lists\n",
    "list = [10,20,30,40,50]\n",
    "for num in range(len(list)):\n",
    "    print(list[num],end = \" \")"
   ]
  },
  {
   "cell_type": "code",
   "execution_count": 28,
   "id": "7a414bc6",
   "metadata": {},
   "outputs": [
    {
     "name": "stdout",
     "output_type": "stream",
     "text": [
      "10 30 50 70 90 "
     ]
    }
   ],
   "source": [
    "#using while loop in lists\n",
    "list = [ 10,30,50,70,90]\n",
    "i=0\n",
    "while i<len(list):\n",
    "    print(list[i],end= \" \")\n",
    "    i=i+1"
   ]
  },
  {
   "cell_type": "code",
   "execution_count": null,
   "id": "f71eca65",
   "metadata": {},
   "outputs": [],
   "source": []
  }
 ],
 "metadata": {
  "kernelspec": {
   "display_name": "Python 3 (ipykernel)",
   "language": "python",
   "name": "python3"
  },
  "language_info": {
   "codemirror_mode": {
    "name": "ipython",
    "version": 3
   },
   "file_extension": ".py",
   "mimetype": "text/x-python",
   "name": "python",
   "nbconvert_exporter": "python",
   "pygments_lexer": "ipython3",
   "version": "3.9.12"
  }
 },
 "nbformat": 4,
 "nbformat_minor": 5
}
