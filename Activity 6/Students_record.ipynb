{
 "cells": [
  {
   "cell_type": "code",
   "execution_count": 1,
   "metadata": {},
   "outputs": [
    {
     "name": "stdout",
     "output_type": "stream",
     "text": [
      "How Many Students you Want To Input?3\n",
      "Enter Roll No:13\n",
      "Enter Name:Mark\n",
      "Enter Physics Marks:20\n",
      "Enter Chemistry Marks:23\n",
      "Enter Maths Marks:43\n",
      "Enter Roll No:23\n",
      "Enter Name:Bill\n",
      "Enter Physics Marks:23\n",
      "Enter Chemistry Marks:42\n",
      "Enter Maths Marks:25\n",
      "Enter Roll No:45\n",
      "Enter Name:Elon\n",
      "Enter Physics Marks:33\n",
      "Enter Chemistry Marks:52\n",
      "Enter Maths Marks:25\n"
     ]
    }
   ],
   "source": [
    "# Program to make Student class to get student details and print...\n",
    "class Student:\n",
    "    def GetStudent(self):\n",
    "        self.__rollno = input(\"Enter Roll No:\")\n",
    "        self.__name = input(\"Enter Name:\")\n",
    "        self.__physicsMarks = int(input(\"Enter Physics Marks:\"))\n",
    "        self.__chemistyMarks = int(input(\"Enter Chemistry Marks:\"))\n",
    "        self.__mathMarks = int(input(\"Enter Maths Marks:\"))\n",
    "        return(self.__rollno)\n",
    "\n",
    "    def PutStudent(self):\n",
    "        print(self.__rollno,self.__name,((self.__physicsMarks+self.__chemistyMarks+self.__mathMarks)/3))\n",
    "    def Search(self,min,max):\n",
    "        per = (self.__physicsMarks+self.__mathMarks+self.__chemistyMarks)/3\n",
    "        if(per>=min and per<=max):\n",
    "            return True\n",
    "        else:\n",
    "            return False\n",
    "\n",
    "# creating a dictionary to store student record \n",
    "studentDict = dict()\n",
    "n = int(input(\"How Many Students you Want To Input?\"))\n",
    "for i in range(n):\n",
    " S = Student()\n",
    " rollno = S.GetStudent()\n",
    " studentDict.setdefault(rollno,S)"
   ]
  },
  {
   "cell_type": "code",
   "execution_count": 2,
   "metadata": {},
   "outputs": [
    {
     "name": "stdout",
     "output_type": "stream",
     "text": [
      "How Many Students you Want To Input?3\n",
      "Enter Roll No:22\n",
      "Enter Name:Aryan\n",
      "Enter Physics Marks:23\n",
      "Enter Chemistry Marks:53\n",
      "Enter Maths Marks:23\n",
      "Enter Roll No:33\n",
      "Enter Name:Dhruv\n",
      "Enter Physics Marks:33\n",
      "Enter Chemistry Marks:34\n",
      "Enter Maths Marks:23\n",
      "Enter Roll No:45\n",
      "Enter Name:Sparsh\n",
      "Enter Physics Marks:23\n",
      "Enter Chemistry Marks:45\n",
      "Enter Maths Marks:23\n",
      "Enter Roll Number you Want Search?33\n",
      "33 Dhruv 30.0\n",
      "All students who scored more that 60 percentage are : \n",
      "Record Not Found!\n"
     ]
    }
   ],
   "source": [
    "# Python program to search student record using dictionary\n",
    "# Student class to get student details and print...\n",
    "class Student:\n",
    "    def GetStudent(self):\n",
    "        self.__rollno = input(\"Enter Roll No:\")\n",
    "        self.__name = input(\"Enter Name:\")\n",
    "        self.__physicsMarks = int(input(\"Enter Physics Marks:\"))\n",
    "        self.__chemistyMarks = int(input(\"Enter Chemistry Marks:\"))\n",
    "        self.__mathMarks = int(input(\"Enter Maths Marks:\"))\n",
    "        return(self.__rollno)\n",
    "\n",
    "    def PutStudent(self):\n",
    "        print(self.__rollno,self.__name,((self.__physicsMarks+self.__chemistyMarks+self.__mathMarks)/3))\n",
    "    def Search(self,min,max):\n",
    "        per = (self.__physicsMarks+self.__mathMarks+self.__chemistyMarks)/3\n",
    "        if(per>=min and per<=max):\n",
    "            return True\n",
    "        else:\n",
    "            return False\n",
    "\n",
    "# creating a dictionary to store student record \n",
    "studentDict = dict()\n",
    "n = int(input(\"How Many Students you Want To Input?\"))\n",
    "for i in range(n):\n",
    " S = Student()\n",
    " rollno = S.GetStudent()\n",
    " studentDict.setdefault(rollno,S)\n",
    "# Searching for student records with roll numbers provided by the user.\n",
    "rollno = input(\"Enter Roll Number you Want Search?\")\n",
    "S = studentDict.get(rollno,\"Not Found!\")\n",
    "if(isinstance(S,Student)):\n",
    "    S.PutStudent()\n",
    "else:\n",
    "    print(S)\n",
    "\n",
    "# Printing records of all users with marks greater than 60% \n",
    "print(\"All students who scored more that 60 percentage are : \")\n",
    "gradeAStudent = list(filter(lambda s:s.Search(60,100),studentDict.values()))\n",
    "if(len(gradeAStudent) == 0):\n",
    "    print(\"Record Not Found!\")\n",
    "else:\n",
    "    for S in gradeAStudent:\n",
    "        S.PutStudent()"
   ]
  },
  {
   "cell_type": "code",
   "execution_count": null,
   "metadata": {},
   "outputs": [],
   "source": []
  }
 ],
 "metadata": {
  "kernelspec": {
   "display_name": "Python 3",
   "language": "python",
   "name": "python3"
  },
  "language_info": {
   "codemirror_mode": {
    "name": "ipython",
    "version": 3
   },
   "file_extension": ".py",
   "mimetype": "text/x-python",
   "name": "python",
   "nbconvert_exporter": "python",
   "pygments_lexer": "ipython3",
   "version": "3.7.3"
  }
 },
 "nbformat": 4,
 "nbformat_minor": 2
}
