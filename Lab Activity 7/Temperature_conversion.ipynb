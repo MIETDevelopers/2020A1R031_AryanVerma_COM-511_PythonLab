{
 "cells": [
  {
   "cell_type": "code",
   "execution_count": 2,
   "id": "e609bfa8",
   "metadata": {},
   "outputs": [
    {
     "name": "stdout",
     "output_type": "stream",
     "text": [
      "--Celsius - Fahrenheit--\n",
      "Enter the Temprature : 40\n",
      "Temperature in Celcius =  40.0 Degree\n",
      "Temperature in Fahrenheit =  104.0 Degree\n",
      "\n",
      "\n",
      "--Fahrenheit - Celsius--\n",
      "Enter the Temprature : 381\n",
      "Temperature in Fahrenheit =  381.0 Degree\n",
      "Temperature in Celcius =  193.88888888888889 Degree\n"
     ]
    }
   ],
   "source": [
    "# python program to convert temperature to and from Celsius to Fahrenheit.\n",
    "print(\"--Celsius - Fahrenheit--\")\n",
    "a = float(input(\"Enter the Temprature : \"))\n",
    "print(\"Temperature in Celcius = \",a,\"Degree\")\n",
    "farh = (a * 1.8) + 32\n",
    "print(\"Temperature in Fahrenheit = \",farh,\"Degree\")\n",
    "\n",
    "print(\"\\n\")\n",
    "\n",
    "print(\"--Fahrenheit - Celsius--\")\n",
    "b = float(input(\"Enter the Temprature : \"))\n",
    "print(\"Temperature in Fahrenheit = \",b,\"Degree\")\n",
    "cel = ((b - 32) * 5) / 9\n",
    "print(\"Temperature in Celcius = \",cel,\"Degree\")"
   ]
  },
  {
   "cell_type": "code",
   "execution_count": null,
   "id": "cf350062",
   "metadata": {},
   "outputs": [],
   "source": []
  },
  {
   "cell_type": "code",
   "execution_count": null,
   "id": "010de923",
   "metadata": {},
   "outputs": [],
   "source": []
  }
 ],
 "metadata": {
  "kernelspec": {
   "display_name": "Python 3 (ipykernel)",
   "language": "python",
   "name": "python3"
  },
  "language_info": {
   "codemirror_mode": {
    "name": "ipython",
    "version": 3
   },
   "file_extension": ".py",
   "mimetype": "text/x-python",
   "name": "python",
   "nbconvert_exporter": "python",
   "pygments_lexer": "ipython3",
   "version": "3.9.12"
  }
 },
 "nbformat": 4,
 "nbformat_minor": 5
}
