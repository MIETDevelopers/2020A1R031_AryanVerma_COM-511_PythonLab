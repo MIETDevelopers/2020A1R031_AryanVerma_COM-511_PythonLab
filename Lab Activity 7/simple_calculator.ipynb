{
 "cells": [
  {
   "cell_type": "code",
   "execution_count": 1,
   "id": "9a7b86aa",
   "metadata": {},
   "outputs": [
    {
     "name": "stdout",
     "output_type": "stream",
     "text": [
      "\n",
      "\t\tOperations\n",
      "1. Addition\n",
      "2. Subtraction\n",
      "3. Multiplication\n",
      "4. Division\n",
      "\n",
      "Enter the Required Choice : 3\n",
      "\n",
      "Enter the Number 1 : 2\n",
      "Enter the Number 2 : 6\n",
      "12\n"
     ]
    }
   ],
   "source": [
    "# a program to create a Simple Calculator using a switch case and function for every operation.\n",
    "def get():\n",
    "    a = int(input('\\nEnter the Number 1 : '))\n",
    "    b = int(input('Enter the Number 2 : '))\n",
    "    return a,b\n",
    "\n",
    "def add():   #addition function\n",
    "    a, b = get()\n",
    "    return a + b\n",
    "\n",
    "def sub():   #subtraction function\n",
    "    a, b = get()\n",
    "    return a - b\n",
    "\n",
    "def mul():  #multiplication function\n",
    "    a, b = get()\n",
    "    return a * b\n",
    "\n",
    "def div():   #division function\n",
    "    a, b = get()\n",
    "    return a / b\n",
    "\n",
    "def error():  #error  function\n",
    "    return \"Invalid Choice\"\n",
    "\n",
    "switcher = {      #creation of dictionary\n",
    "        1 : add,\n",
    "        2 : sub,\n",
    "        3 : mul,\n",
    "        4 : div\n",
    "}\n",
    "\n",
    "print('\\n\\t\\tOperations')\n",
    "print('1. Addition')\n",
    "print('2. Subtraction')\n",
    "print('3. Multiplication')\n",
    "print('4. Division')\n",
    "\n",
    "choice = int(input(\"\\nEnter the Required Choice : \"))\n",
    "\n",
    "result = switcher.get(choice,error)()   #using get function to get result\n",
    "print(result)"
   ]
  },
  {
   "cell_type": "code",
   "execution_count": null,
   "id": "46cbf571",
   "metadata": {},
   "outputs": [],
   "source": []
  }
 ],
 "metadata": {
  "kernelspec": {
   "display_name": "Python 3 (ipykernel)",
   "language": "python",
   "name": "python3"
  },
  "language_info": {
   "codemirror_mode": {
    "name": "ipython",
    "version": 3
   },
   "file_extension": ".py",
   "mimetype": "text/x-python",
   "name": "python",
   "nbconvert_exporter": "python",
   "pygments_lexer": "ipython3",
   "version": "3.9.12"
  }
 },
 "nbformat": 4,
 "nbformat_minor": 5
}
