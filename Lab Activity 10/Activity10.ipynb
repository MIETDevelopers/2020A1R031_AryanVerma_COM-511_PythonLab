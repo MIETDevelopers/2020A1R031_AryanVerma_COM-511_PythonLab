{
 "cells": [
  {
   "cell_type": "code",
   "execution_count": 1,
   "id": "fac6f173",
   "metadata": {},
   "outputs": [
    {
     "name": "stdout",
     "output_type": "stream",
     "text": [
      "Inside Parent !\n",
      "\n",
      "Inside Child !\n"
     ]
    }
   ],
   "source": [
    "#single Inheritance\n",
    "class parent:  #parent class\n",
    "    def show(self):\n",
    "        print(\"Inside Parent !\")\n",
    "class child(parent):  #child class\n",
    "    def get(self):\n",
    "        print(\"\\nInside Child !\")\n",
    "b1 = child()  #creating object\n",
    "b1.show()  #calling of functions\n",
    "b1.get()"
   ]
  },
  {
   "cell_type": "code",
   "execution_count": 2,
   "id": "d581baf7",
   "metadata": {},
   "outputs": [
    {
     "name": "stdout",
     "output_type": "stream",
     "text": [
      "HELLO, I am Parent 1.\n",
      "HELLO, I am Parent 2.\n",
      "HELLO, I am Child.\n"
     ]
    }
   ],
   "source": [
    "#multiple Inheritance\n",
    "class parent1:  # class parent 1\n",
    "    def get(self):\n",
    "        print(\"HELLO, I am Parent 1.\")\n",
    "class parent2:  # class parent 2\n",
    "    def input(self):  \n",
    "        print(\"HELLO, I am Parent 2.\")\n",
    "class child(parent1,parent2):  #child class\n",
    "    def abc(self): \n",
    "        print(\"HELLO, I am Child.\")\n",
    "c1 = child()   #creating object \n",
    "c1.get()   #calling functions\n",
    "c1.input()\n",
    "c1.abc()"
   ]
  },
  {
   "cell_type": "code",
   "execution_count": 3,
   "id": "fd10ebcb",
   "metadata": {},
   "outputs": [
    {
     "name": "stdout",
     "output_type": "stream",
     "text": [
      "HELLO, I am Parent.\n",
      "HELLO, I am Child.\n",
      "HELLO, I am GrandChild.\n"
     ]
    }
   ],
   "source": [
    "#multi level Inheritance\n",
    "class parent:  # class parent\n",
    "    def get(self):\n",
    "        print(\"HELLO, I am Parent.\")\n",
    "class child(parent):  # class child\n",
    "    def input(self):  \n",
    "        print(\"HELLO, I am Child.\")\n",
    "class grandchild(child):  #child grandclass\n",
    "    def abc(self): \n",
    "        print(\"HELLO, I am GrandChild.\")\n",
    "c1 = grandchild()   #creating object \n",
    "c1.get()   #calling functions\n",
    "c1.input()\n",
    "c1.abc()"
   ]
  },
  {
   "cell_type": "code",
   "execution_count": 4,
   "id": "b1bef3c6",
   "metadata": {},
   "outputs": [
    {
     "name": "stdout",
     "output_type": "stream",
     "text": [
      "HELLO, I am Parent.\n",
      "HELLO, I am Child 1.\n",
      "\n",
      "\n",
      "HELLO, I am Parent.\n",
      "HELLO, I am Child 2.\n"
     ]
    }
   ],
   "source": [
    "#Hierarchical Inheritance\n",
    "class parent:  # class parent\n",
    "    def get(self):\n",
    "        print(\"HELLO, I am Parent.\")\n",
    "class child1(parent):  # class child 1\n",
    "    def input(self):  \n",
    "        print(\"HELLO, I am Child 1.\")\n",
    "class child2(parent):  #child class 2\n",
    "    def abc(self): \n",
    "        print(\"HELLO, I am Child 2.\")\n",
    "c1 = child1()   #creating object for child 1\n",
    "c1.get()   #calling functions\n",
    "c1.input()\n",
    "print(\"\\n\")\n",
    "c2 = child2()  #creating object for child 2\n",
    "c2.get()\n",
    "c2.abc()"
   ]
  },
  {
   "cell_type": "code",
   "execution_count": 6,
   "id": "99fe60e1",
   "metadata": {},
   "outputs": [
    {
     "name": "stdout",
     "output_type": "stream",
     "text": [
      "Enter the first number : 3\n",
      "Enter the second number : 2\n",
      "First Number =  3\n",
      "Second Number =  2\n",
      "Addition =  5\n",
      "Subtraction =  1\n"
     ]
    }
   ],
   "source": [
    "#class to add and subtract two numbers\n",
    "class A:   #defining a class called A\n",
    "    def __init__(self):    #constructor\n",
    "        self.a = int(input(\"Enter the first number : \"))\n",
    "        self.b = int(input(\"Enter the second number : \"))\n",
    "    def show(self):  \n",
    "        print(\"First Number = \",self.a)\n",
    "        print(\"Second Number = \",self.b)\n",
    "    def cal(self):   #function to calculate \n",
    "        self.c = self.a + self.b\n",
    "        self.d = self.a - self.b\n",
    "    def output(self):\n",
    "        print(\"Addition = \",self.c)\n",
    "        print(\"Subtraction = \",self.d)\n",
    "a = A()  #creation of object\n",
    "a.show()  #calling of function\n",
    "a.cal()\n",
    "a.output()"
   ]
  },
  {
   "cell_type": "code",
   "execution_count": 21,
   "id": "35c1419a",
   "metadata": {},
   "outputs": [
    {
     "name": "stdout",
     "output_type": "stream",
     "text": [
      "Volume of Cylinder: 100.48\n",
      "This is a Cylinder class that computes the volume using Pi=3.14\n",
      "This is a Cylinder class that computes the volume using Pi=3.14\n"
     ]
    }
   ],
   "source": [
    "class Cylinder:\n",
    "    # class attribute\n",
    "    pi = 3.14\n",
    "    def __init__(self, radius, height):\n",
    "        # instance variables\n",
    "        self.radius = radius\n",
    "        self.height = height\n",
    " \n",
    "    # instance method\n",
    "    def volume(self):\n",
    "        return Cylinder.pi * self.radius**2 * self.height\n",
    " \n",
    "    # class method\n",
    "    @classmethod\n",
    "    def description(cls):\n",
    "        return f'This is a Cylinder class that computes the volume using Pi={cls.pi}'\n",
    "         \n",
    "if __name__ == '__main__':\n",
    "    c1 = Cylinder(4, 2) # create an instance/object\n",
    " \n",
    "    print(f'Volume of Cylinder: {c1.volume()}') # access instance method \n",
    "    print(Cylinder.description()) # access class method via class\n",
    "    print(c1.description()) # access class method via instance"
   ]
  },
  {
   "cell_type": "code",
   "execution_count": 25,
   "id": "e1d94e1c",
   "metadata": {},
   "outputs": [
    {
     "name": "stdout",
     "output_type": "stream",
     "text": [
      "Rodger details:\n",
      "Rodger is a dog\n",
      "Breed:  Pug\n",
      "Color:  brown\n",
      "\n",
      "Buzo details:\n",
      "Buzo is a dog\n",
      "Breed:  Bulldog\n",
      "Color:  black\n",
      "\n",
      "Accessing class variable using class name\n",
      "dog\n"
     ]
    }
   ],
   "source": [
    "# Python3 program to show that the variables with a value\n",
    "# assigned in the class declaration, are class variables and\n",
    "# variables inside methods and constructors are instance\n",
    "# variables.\n",
    " \n",
    "# Class for Dog\n",
    " \n",
    " \n",
    "class Dog:\n",
    " \n",
    "    # Class Variable\n",
    "    animal = 'dog'\n",
    " \n",
    "    # The init method or constructor\n",
    "    def __init__(self, breed, color):\n",
    " \n",
    "        # Instance Variable\n",
    "        self.breed = breed\n",
    "        self.color = color\n",
    " \n",
    " \n",
    "# Objects of Dog class\n",
    "Rodger = Dog(\"Pug\", \"brown\")\n",
    "Buzo = Dog(\"Bulldog\", \"black\")\n",
    " \n",
    "print('Rodger details:')\n",
    "print('Rodger is a', Rodger.animal)\n",
    "print('Breed: ', Rodger.breed)\n",
    "print('Color: ', Rodger.color)\n",
    " \n",
    "print('\\nBuzo details:')\n",
    "print('Buzo is a', Buzo.animal)\n",
    "print('Breed: ', Buzo.breed)\n",
    "print('Color: ', Buzo.color)\n",
    " \n",
    "# Class variables can be accessed using class\n",
    "# name also\n",
    "print(\"\\nAccessing class variable using class name\")\n",
    "print(Dog.animal)"
   ]
  },
  {
   "cell_type": "code",
   "execution_count": null,
   "id": "5c40d456",
   "metadata": {},
   "outputs": [],
   "source": []
  },
  {
   "cell_type": "code",
   "execution_count": null,
   "id": "9907d6af",
   "metadata": {},
   "outputs": [],
   "source": []
  }
 ],
 "metadata": {
  "kernelspec": {
   "display_name": "Python 3 (ipykernel)",
   "language": "python",
   "name": "python3"
  },
  "language_info": {
   "codemirror_mode": {
    "name": "ipython",
    "version": 3
   },
   "file_extension": ".py",
   "mimetype": "text/x-python",
   "name": "python",
   "nbconvert_exporter": "python",
   "pygments_lexer": "ipython3",
   "version": "3.9.12"
  }
 },
 "nbformat": 4,
 "nbformat_minor": 5
}
