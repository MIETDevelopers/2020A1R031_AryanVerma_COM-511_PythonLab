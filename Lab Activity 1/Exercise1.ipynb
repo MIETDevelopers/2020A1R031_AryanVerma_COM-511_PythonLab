{
 "cells": [
  {
   "cell_type": "code",
   "execution_count": 6,
   "id": "9e718e89",
   "metadata": {},
   "outputs": [
    {
     "name": "stdout",
     "output_type": "stream",
     "text": [
      "Enter the string : Hi this is aryan\n",
      "Length of string is = 16\n"
     ]
    }
   ],
   "source": [
    "# Python program to calculate length of a String without using len() function\n",
    "#taking user input\n",
    "string=input(\"Enter the string : \")\n",
    "count=0\n",
    "for i in string:\n",
    "    count+=1 #incrementing count with 1\n",
    "print(\"Length of string is =\",count)    "
   ]
  },
  {
   "cell_type": "code",
   "execution_count": 7,
   "id": "2f77ae64",
   "metadata": {},
   "outputs": [
    {
     "name": "stdout",
     "output_type": "stream",
     "text": [
      "List = [1, 2, 3, 4, 5]\n",
      "Their sum is =  15\n"
     ]
    }
   ],
   "source": [
    "#python program to sum all the number in a list\n",
    "list=[1,2,3,4,5]\n",
    "print(\"List =\",list)\n",
    "print(\"Their sum is = \",sum(list))"
   ]
  },
  {
   "cell_type": "code",
   "execution_count": 8,
   "id": "57835686",
   "metadata": {},
   "outputs": [
    {
     "name": "stdout",
     "output_type": "stream",
     "text": [
      "List = [60, 45, 70, 23]\n",
      "Highest number = 70\n"
     ]
    }
   ],
   "source": [
    "# Finding largest number in a list using sort() method\n",
    "list = [60,45,70,23]\n",
    "print(\"List =\",list)\n",
    "list.sort() #sort() function sorts the list in ascending order\n",
    "print(\"Highest number =\",list[-1]) #prints the last element of list"
   ]
  },
  {
   "cell_type": "code",
   "execution_count": 9,
   "id": "adf8dd8d",
   "metadata": {},
   "outputs": [
    {
     "name": "stdout",
     "output_type": "stream",
     "text": [
      "List = [2, 24, 543, 6534, 343, 543]\n",
      "Largest number is : 6534\n"
     ]
    }
   ],
   "source": [
    "#Finding largest number in a list using max() method\n",
    "List=[2,24,543,6534,343,543]\n",
    "print(\"List =\",List)\n",
    "print(\"Largest number is :\",max(List))"
   ]
  },
  {
   "cell_type": "code",
   "execution_count": 16,
   "id": "76a2be6e",
   "metadata": {},
   "outputs": [
    {
     "name": "stdout",
     "output_type": "stream",
     "text": [
      "List = [1, 2, 3, 4, 54, 5]\n",
      "The even number are : 2\n",
      "The even number are : 4\n",
      "The even number are : 54\n"
     ]
    }
   ],
   "source": [
    "#Python program to print the even numbers from a given list\n",
    "list=[1,2,3,4,54,5]\n",
    "print(\"List =\",list)\n",
    "for n in list:\n",
    "    if n%2==0:\n",
    "        print(\"The even number are :\",n)"
   ]
  },
  {
   "cell_type": "code",
   "execution_count": null,
   "id": "f1e9fa42",
   "metadata": {},
   "outputs": [],
   "source": []
  }
 ],
 "metadata": {
  "kernelspec": {
   "display_name": "Python 3 (ipykernel)",
   "language": "python",
   "name": "python3"
  },
  "language_info": {
   "codemirror_mode": {
    "name": "ipython",
    "version": 3
   },
   "file_extension": ".py",
   "mimetype": "text/x-python",
   "name": "python",
   "nbconvert_exporter": "python",
   "pygments_lexer": "ipython3",
   "version": "3.9.12"
  }
 },
 "nbformat": 4,
 "nbformat_minor": 5
}
