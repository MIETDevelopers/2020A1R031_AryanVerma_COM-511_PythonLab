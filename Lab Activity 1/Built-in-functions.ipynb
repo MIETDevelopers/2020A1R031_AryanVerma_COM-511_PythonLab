{
 "cells": [
  {
   "cell_type": "code",
   "execution_count": 3,
   "id": "0eb8762d",
   "metadata": {},
   "outputs": [
    {
     "name": "stdout",
     "output_type": "stream",
     "text": [
      "x = [12, 2, 3, 4, 5, 6]\n",
      "Length of x = 6\n"
     ]
    }
   ],
   "source": [
    "#length function\n",
    "x=[12,2,3,4,5,6]\n",
    "print(\"x =\",x)\n",
    "print(\"Length of x =\",len(x))"
   ]
  },
  {
   "cell_type": "code",
   "execution_count": 4,
   "id": "6811a32b",
   "metadata": {},
   "outputs": [
    {
     "name": "stdout",
     "output_type": "stream",
     "text": [
      "LIST = [1, 345, 343, 134, 654, 223]\n",
      "Maxmimun No. is =  654\n"
     ]
    }
   ],
   "source": [
    "#using max() function to find out the highest number\n",
    "list=[1,345,343,134,654,223]\n",
    "print(\"LIST =\",list)\n",
    "print(\"Maxmimun No. is = \",max(list))"
   ]
  },
  {
   "cell_type": "code",
   "execution_count": 5,
   "id": "7bddde52",
   "metadata": {},
   "outputs": [
    {
     "name": "stdout",
     "output_type": "stream",
     "text": [
      "LIST = [345, 343, 134, 654, 223]\n",
      "Minimum No. is = 134\n"
     ]
    }
   ],
   "source": [
    "#using min() function to find out the highest number\n",
    "list=[345,343,134,654,223]\n",
    "print(\"LIST =\",list)\n",
    "print(\"Minimum No. is =\",min(list))"
   ]
  },
  {
   "cell_type": "code",
   "execution_count": 6,
   "id": "5985100c",
   "metadata": {},
   "outputs": [
    {
     "name": "stdout",
     "output_type": "stream",
     "text": [
      "2.56\n",
      "Round value = 3\n"
     ]
    }
   ],
   "source": [
    "#round function\n",
    "x=2.56\n",
    "print(x)\n",
    "print(\"Round value =\",round(x))"
   ]
  },
  {
   "cell_type": "code",
   "execution_count": 10,
   "id": "9d3a6953",
   "metadata": {},
   "outputs": [
    {
     "name": "stdout",
     "output_type": "stream",
     "text": [
      "True\n"
     ]
    }
   ],
   "source": [
    "#using boolean function\n",
    "x=bool(1)\n",
    "print(x)"
   ]
  },
  {
   "cell_type": "code",
   "execution_count": 7,
   "id": "18fd9108",
   "metadata": {},
   "outputs": [
    {
     "name": "stdout",
     "output_type": "stream",
     "text": [
      "x = 12\n",
      "Type = <class 'int'>\n"
     ]
    }
   ],
   "source": [
    "#type function\n",
    "x=12\n",
    "print(\"x =\",x)\n",
    "print(\"Type =\",type(x))"
   ]
  },
  {
   "cell_type": "code",
   "execution_count": 8,
   "id": "60cb78ee",
   "metadata": {},
   "outputs": [
    {
     "name": "stdout",
     "output_type": "stream",
     "text": [
      "y = Aryan\n",
      "Type is = <class 'str'>\n"
     ]
    }
   ],
   "source": [
    "y=\"Aryan\"\n",
    "print(\"y =\",y)\n",
    "print(\"Type is =\",type(y))"
   ]
  },
  {
   "cell_type": "code",
   "execution_count": 10,
   "id": "e17c5cb8",
   "metadata": {},
   "outputs": [
    {
     "name": "stdout",
     "output_type": "stream",
     "text": [
      "Z = 2.45\n",
      "Type = <class 'float'>\n"
     ]
    }
   ],
   "source": [
    "z=2.45\n",
    "print(\"Z =\",z)\n",
    "print(\"Type =\",type(z))"
   ]
  },
  {
   "cell_type": "code",
   "execution_count": 12,
   "id": "8221c9d5",
   "metadata": {},
   "outputs": [
    {
     "name": "stdout",
     "output_type": "stream",
     "text": [
      "Id of 1 is : 2957204875568\n",
      "Id of 2 is : 2957204875600\n"
     ]
    }
   ],
   "source": [
    "#id function\n",
    "x=1\n",
    "print(\"Id of 1 is :\",id(x))\n",
    "y=2\n",
    "print(\"Id of 2 is :\",id(y))"
   ]
  },
  {
   "cell_type": "code",
   "execution_count": 13,
   "id": "c3523552",
   "metadata": {},
   "outputs": [
    {
     "name": "stdout",
     "output_type": "stream",
     "text": [
      "Enter the value of x= 2\n",
      "Enter the value of y= 5\n",
      "Their sum = 7\n"
     ]
    }
   ],
   "source": [
    "#input fucntion to get the values from user\n",
    "x=input(\"Enter the value of x= \")\n",
    "y=input(\"Enter the value of y= \")\n",
    "x = int(x)  \n",
    "y = int(y)\n",
    "sum=x+y\n",
    "print(\"Their sum =\",sum)"
   ]
  },
  {
   "cell_type": "code",
   "execution_count": 33,
   "id": "0239f11a",
   "metadata": {},
   "outputs": [
    {
     "name": "stdout",
     "output_type": "stream",
     "text": [
      "0\n",
      "1\n",
      "2\n",
      "3\n",
      "4\n"
     ]
    }
   ],
   "source": [
    "#range function\n",
    "x=range(5)\n",
    "for n in x:\n",
    "    print(n)"
   ]
  },
  {
   "cell_type": "code",
   "execution_count": 34,
   "id": "47c1fad6",
   "metadata": {},
   "outputs": [
    {
     "data": {
      "text/plain": [
       "4.0"
      ]
     },
     "execution_count": 34,
     "metadata": {},
     "output_type": "execute_result"
    }
   ],
   "source": [
    "#converting the int in float using float function\n",
    "x=4\n",
    "float(x)"
   ]
  },
  {
   "cell_type": "code",
   "execution_count": 17,
   "id": "1ab60fff",
   "metadata": {},
   "outputs": [
    {
     "name": "stdout",
     "output_type": "stream",
     "text": [
      "List [4, 2, 5, 8, 6, 1, 9]\n",
      "Sorted List = [1, 2, 4, 5, 6, 8, 9]\n"
     ]
    }
   ],
   "source": [
    "#sorted function\n",
    "list=[4,2,5,8,6,1,9]\n",
    "print(\"List\",list)\n",
    "print(\"Sorted List =\",sorted(list))"
   ]
  },
  {
   "cell_type": "code",
   "execution_count": null,
   "id": "5acf5a3a",
   "metadata": {},
   "outputs": [],
   "source": []
  }
 ],
 "metadata": {
  "kernelspec": {
   "display_name": "Python 3 (ipykernel)",
   "language": "python",
   "name": "python3"
  },
  "language_info": {
   "codemirror_mode": {
    "name": "ipython",
    "version": 3
   },
   "file_extension": ".py",
   "mimetype": "text/x-python",
   "name": "python",
   "nbconvert_exporter": "python",
   "pygments_lexer": "ipython3",
   "version": "3.9.12"
  }
 },
 "nbformat": 4,
 "nbformat_minor": 5
}
