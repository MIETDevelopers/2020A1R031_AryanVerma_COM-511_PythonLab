{
 "cells": [
  {
   "cell_type": "code",
   "execution_count": 3,
   "id": "0a813942",
   "metadata": {},
   "outputs": [
    {
     "name": "stdout",
     "output_type": "stream",
     "text": [
      "HELLO WORLD!  THIS IS ARYAN\n"
     ]
    }
   ],
   "source": [
    "#string data type\n",
    "string=(\"HELLO WORLD!  THIS IS ARYAN\")\n",
    "print(string)"
   ]
  },
  {
   "cell_type": "code",
   "execution_count": 6,
   "id": "b99dc7bc",
   "metadata": {},
   "outputs": [
    {
     "name": "stdout",
     "output_type": "stream",
     "text": [
      "sample 5\n",
      "Type of string is: <class 'int'>\n"
     ]
    }
   ],
   "source": [
    "#intergs data type\n",
    "sample=5\n",
    "print(\"sample\",sample)\n",
    "print(\"Type of string is:\",type(sample))\n"
   ]
  },
  {
   "cell_type": "code",
   "execution_count": 5,
   "id": "94f7043b",
   "metadata": {},
   "outputs": [
    {
     "name": "stdout",
     "output_type": "stream",
     "text": [
      "X = 1.345\n",
      "Type of string is: <class 'float'>\n"
     ]
    }
   ],
   "source": [
    "#float datatype\n",
    "x=1.345\n",
    "print(\"X =\",x)\n",
    "print(\"Type of string is:\",type(x))"
   ]
  },
  {
   "cell_type": "code",
   "execution_count": 4,
   "id": "ec3de601",
   "metadata": {},
   "outputs": [
    {
     "name": "stdout",
     "output_type": "stream",
     "text": [
      "True\n",
      "Type of string is: <class 'bool'>\n"
     ]
    }
   ],
   "source": [
    "#Booleans datatype\n",
    "x=bool(1)\n",
    "print(x)\n",
    "print(\"Type of string is:\",type(x))"
   ]
  },
  {
   "cell_type": "code",
   "execution_count": 11,
   "id": "44dd8503",
   "metadata": {},
   "outputs": [
    {
     "name": "stdout",
     "output_type": "stream",
     "text": [
      "[1, 2, 35, 6]\n",
      "The datatype is  <class 'list'>\n"
     ]
    }
   ],
   "source": [
    "#lists datatype\n",
    "list=[1,2,35,6]\n",
    "print(\"LIST =\",list)\n",
    "print(\"The datatype is \",type(list))"
   ]
  },
  {
   "cell_type": "code",
   "execution_count": 13,
   "id": "a7a6ed4d",
   "metadata": {},
   "outputs": [
    {
     "name": "stdout",
     "output_type": "stream",
     "text": [
      "(1, 2, 3, 4, 5)\n",
      "The datatype is  <class 'tuple'>\n"
     ]
    }
   ],
   "source": [
    "#tuples datatype\n",
    "sample=(1,2,3,4,5)\n",
    "print(sample)\n",
    "print(\"The datatype is \",type(sample))"
   ]
  },
  {
   "cell_type": "code",
   "execution_count": 14,
   "id": "1296b536",
   "metadata": {},
   "outputs": [
    {
     "name": "stdout",
     "output_type": "stream",
     "text": [
      "{'a': 1, 'b': 2, 'c': 4, 'd': 5}\n",
      "The datatype is  <class 'dict'>\n"
     ]
    }
   ],
   "source": [
    "#dictionaries datatype\n",
    "y={\"a\":1,\"b\":2,\"c\":4,\"d\":5}\n",
    "print(y)\n",
    "print(\"The datatype is \",type(y))"
   ]
  },
  {
   "cell_type": "code",
   "execution_count": 9,
   "id": "efca181c",
   "metadata": {},
   "outputs": [
    {
     "name": "stdout",
     "output_type": "stream",
     "text": [
      "SET =  {1, 2, 3, 4, 5}\n",
      "Type : <class 'set'>\n",
      "SET OF EVEN NUMBERS = {2, 4, 6, 8, 10}\n"
     ]
    }
   ],
   "source": [
    "#SET datatype\n",
    "\n",
    "set={5,2,3,1,4}\n",
    "print('SET = ',set)\n",
    "print(\"Type :\",type(set))\n",
    "even_nums={2,4,6,8,10}\n",
    "print('SET OF EVEN NUMBERS =',even_nums)"
   ]
  },
  {
   "cell_type": "code",
   "execution_count": null,
   "id": "7403f439",
   "metadata": {},
   "outputs": [],
   "source": []
  }
 ],
 "metadata": {
  "kernelspec": {
   "display_name": "Python 3 (ipykernel)",
   "language": "python",
   "name": "python3"
  },
  "language_info": {
   "codemirror_mode": {
    "name": "ipython",
    "version": 3
   },
   "file_extension": ".py",
   "mimetype": "text/x-python",
   "name": "python",
   "nbconvert_exporter": "python",
   "pygments_lexer": "ipython3",
   "version": "3.9.12"
  }
 },
 "nbformat": 4,
 "nbformat_minor": 5
}
