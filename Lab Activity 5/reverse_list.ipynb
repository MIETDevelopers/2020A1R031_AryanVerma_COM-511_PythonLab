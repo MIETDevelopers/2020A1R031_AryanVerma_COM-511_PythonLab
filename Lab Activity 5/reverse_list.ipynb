{
 "cells": [
  {
   "cell_type": "code",
   "execution_count": 1,
   "metadata": {},
   "outputs": [
    {
     "name": "stdout",
     "output_type": "stream",
     "text": [
      "Before reversing:  [[2, 3, 4], [5, 6, 7], [7, 8, 9]]\n",
      "after reversing kth row:  [[2, 3, 4], [5, 6, 7], [9, 8, 7]]\n"
     ]
    }
   ],
   "source": [
    "# Write a program to reverse every kth row in a matrix using reversed and loop.\n",
    "test_list=[[2,3,4],[5,6,7],[7,8,9]]\n",
    "print(\"Before reversing: \", str(test_list))\n",
    "k=3\n",
    "res=[]\n",
    "for i,l in enumerate(test_list):\n",
    "    if(i+1) % k==0:\n",
    "        res.append(list(reversed(l)))\n",
    "    else:    \n",
    "        res.append(l)\n",
    "print(\"after reversing kth row: \", str(res))"
   ]
  },
  {
   "cell_type": "code",
   "execution_count": 2,
   "metadata": {},
   "outputs": [
    {
     "name": "stdout",
     "output_type": "stream",
     "text": [
      "Before reversing:  [[2, 3, 4], [5, 6, 7], [8, 9, 6]]\n",
      "after reversing kth row :  [[2, 3, 4], [7, 6, 5], [8, 9, 6]]\n"
     ]
    }
   ],
   "source": [
    "# Write a program to reverse every kth row in a matrix using slicing and list comprehension.\n",
    "test_list = [[2,3,4],[5,6,7],[8,9,6]]\n",
    "print(\"Before reversing: \",str(test_list))\n",
    "k=2\n",
    "res=[l[::-1] if (i+1)%k==0 else l for i, l in enumerate(test_list)]\n",
    "print(\"after reversing kth row : \", str(res))"
   ]
  },
  {
   "cell_type": "code",
   "execution_count": null,
   "metadata": {},
   "outputs": [],
   "source": []
  }
 ],
 "metadata": {
  "kernelspec": {
   "display_name": "Python 3",
   "language": "python",
   "name": "python3"
  },
  "language_info": {
   "codemirror_mode": {
    "name": "ipython",
    "version": 3
   },
   "file_extension": ".py",
   "mimetype": "text/x-python",
   "name": "python",
   "nbconvert_exporter": "python",
   "pygments_lexer": "ipython3",
   "version": "3.7.3"
  }
 },
 "nbformat": 4,
 "nbformat_minor": 2
}
